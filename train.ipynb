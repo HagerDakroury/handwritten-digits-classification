{
  "nbformat": 4,
  "nbformat_minor": 0,
  "metadata": {
    "colab": {
      "name": "train.ipynb",
      "provenance": [],
      "mount_file_id": "1nrzpcI8X_b39wavmVgozOl7Jj8765kng",
      "authorship_tag": "ABX9TyMEC5gtQH78kRIS0UkCc3eh",
      "include_colab_link": true
    },
    "kernelspec": {
      "name": "python3",
      "display_name": "Python 3"
    }
  },
  "cells": [
    {
      "cell_type": "markdown",
      "metadata": {
        "id": "view-in-github",
        "colab_type": "text"
      },
      "source": [
        "<a href=\"https://colab.research.google.com/github/HagerDakroury/handwritten-digits-classification/blob/main/train.ipynb\" target=\"_parent\"><img src=\"https://colab.research.google.com/assets/colab-badge.svg\" alt=\"Open In Colab\"/></a>"
      ]
    },
    {
      "cell_type": "code",
      "metadata": {
        "id": "1iWlFNoIOhsM"
      },
      "source": [
        "import tensorflow as tf\r\n",
        "from tensorflow import keras\r\n",
        "from tensorflow.keras import layers\r\n",
        "from tensorflow.keras.models import Sequential\r\n",
        "\r\n",
        "import matplotlib.pyplot as plt\r\n",
        "from keras.preprocessing.image import load_img\r\n",
        "from keras.preprocessing.image import img_to_array\r\n",
        "import numpy as np\r\n",
        "\r\n",
        "\r\n",
        "\r\n",
        "\r\n",
        "\r\n",
        "#mounting my google drive where the dataset is saved\r\n",
        "#can be done like that or directly from google colab UI\r\n",
        "\r\n",
        "# from google.colab import drive\r\n",
        "# drive.mount('/content/drive')\r\n",
        "\r\n",
        "#extracting the dataset\r\n",
        "!tar xvzf /content/drive/MyDrive/trainingSet.tar.gz\r\n",
        "\r\n",
        "\r\n"
      ],
      "execution_count": null,
      "outputs": []
    },
    {
      "cell_type": "code",
      "metadata": {
        "id": "J-trkwLAOucR"
      },
      "source": [
        "def Load_data(directory):\r\n",
        "  #fitting the data into a dataset\r\n",
        "  #image_size=(28,28)\r\n",
        "  #training to validation ratio 8:2\r\n",
        "  #seed is random\r\n",
        "\r\n",
        "  #the training dataset\r\n",
        "  t_dataset = tf.keras.preprocessing.image_dataset_from_directory(\r\n",
        "      directory, labels='inferred',label_mode='int',color_mode='rgb',\r\n",
        "      batch_size=32, image_size=(28,28), validation_split=0.2,\r\n",
        "      subset=\"training\",seed=387\r\n",
        "  )\r\n",
        "\r\n",
        "  #the validation dataset \r\n",
        "  v_dataset = tf.keras.preprocessing.image_dataset_from_directory(\r\n",
        "      directory, labels='inferred',label_mode='int', color_mode='rgb',\r\n",
        "      batch_size=32, image_size=(28,28), validation_split=0.2,\r\n",
        "      subset=\"validation\",seed=387\r\n",
        "  )\r\n",
        "\r\n",
        "  #preprocessing the dataset\r\n",
        "\r\n",
        "  #1.reshaping to a single\r\n",
        "\r\n",
        "\r\n",
        "  return t_dataset,v_dataset\r\n"
      ],
      "execution_count": 22,
      "outputs": []
    },
    {
      "cell_type": "code",
      "metadata": {
        "id": "srCc6KuHZiFo"
      },
      "source": [
        "def train(t_dataset,v_dataset):\r\n",
        "  #keeping the data into memory after they're loaded to avoid I/O blocking\r\n",
        "  AUTOTUNE = tf.data.AUTOTUNE\r\n",
        "  t_ds = t_dataset.cache().shuffle(1000).prefetch(buffer_size=AUTOTUNE)\r\n",
        "  v_ds = v_dataset.cache().prefetch(buffer_size=AUTOTUNE)\r\n",
        "\r\n",
        "  #resclaing the dataset\r\n",
        "  normalization_layer = layers.experimental.preprocessing.Rescaling(1./255)\r\n",
        "\r\n",
        "  t_ds = t_ds.map(lambda x, y: (normalization_layer(x), y))\r\n",
        "  v_ds = v_ds.map(lambda x, y: (normalization_layer(x), y))\r\n",
        "\r\n",
        "\r\n",
        "  #constructing the model\r\n",
        "  #layer1 -> \r\n",
        "  model = Sequential([\r\n",
        "    layers.Conv2D(32, (3, 3), activation='relu', kernel_initializer='he_uniform', input_shape=(28, 28, 3)),\r\n",
        "    layers.MaxPooling2D((2, 2)),\r\n",
        "    layers.Flatten(),\r\n",
        "    layers.Dense(100, activation='relu', kernel_initializer='he_uniform'),\r\n",
        "    layers.Dense(10)\r\n",
        "  ])\r\n",
        "\r\n",
        "  # compile model\r\n",
        "  model.compile(optimizer='adam',\r\n",
        "                loss=tf.keras.losses.SparseCategoricalCrossentropy(from_logits=True),\r\n",
        "                metrics=['accuracy'])\r\n",
        "\r\n",
        "  #fitting the model\r\n",
        "  epochs=10\r\n",
        "  history = model.fit(\r\n",
        "    t_ds,\r\n",
        "    validation_data=v_ds,\r\n",
        "    epochs=epochs\r\n",
        "  )\r\n",
        "\r\n",
        "  #checking accuracy\r\n",
        "  val_acc = history.history['val_accuracy']\r\n",
        "  print('> %.3f' % (val_acc[9] * 100.0))\r\n",
        "\r\n",
        "  #saving the model\r\n",
        "  # path = F\"/content/gdrive/My Drive/{model_save_name}\" \r\n",
        "  # torch.save(model.state_dict(), path)\r\n",
        "\r\n",
        "  model.save('/content/My Drive/cse440_project/model.h5')\r\n",
        "\r\n",
        "  class_names = t_dataset.class_names \r\n",
        "  plt.figure(figsize=(9, 9))\r\n",
        "  for images, labels in t_dataset.take(1):\r\n",
        "      for i in range(9):\r\n",
        "          ax = plt.subplot(3, 3, i + 1)\r\n",
        "          plt.imshow(images[i].numpy().astype(\"uint8\"))\r\n",
        "          #predicting the image \r\n",
        "          predict=Predict(isPath=False,image=image)\r\n",
        "          plt.title(\"true:\"+\"[\"+class_names[labels[i]]+\"]  \"+\"predicted:\"+np.array_str(predict))\r\n",
        "\r\n",
        "          plt.axis(\"off\")\r\n",
        "\r\n"
      ],
      "execution_count": 13,
      "outputs": []
    },
    {
      "cell_type": "code",
      "metadata": {
        "id": "GLRpk81dyVrR"
      },
      "source": [
        "from keras.models import load_model\r\n",
        "\r\n",
        "#2 options, pass image path or image object directly\r\n",
        "def Predict(isPath,image_path=None,image=None):\r\n",
        "  if isPath:\r\n",
        "    img=load_img(image_path,target_size=(28,28))\r\n",
        "    \r\n",
        "  else:\r\n",
        "    img=image\r\n",
        "  \r\n",
        "  #some preprocessing so the image is ready\r\n",
        "  img = img_to_array(img)\r\n",
        "  img = img.reshape(1, 28, 28, 3)\r\n",
        "  img = img.astype('float32')\r\n",
        "  img = img / 255.0\r\n",
        "\r\n",
        "  #loading the model\r\n",
        "  model=load_model('/content/My Drive/cse440_project/model.h5')\r\n",
        "\r\n",
        "\r\n",
        "  #the prediction\r\n",
        "  predict=np.argmax(model.predict(img),axis=-1)\r\n",
        "\r\n",
        "  return predict\r\n",
        "\r\n",
        "  \r\n",
        "\r\n",
        "\r\n"
      ],
      "execution_count": 23,
      "outputs": []
    },
    {
      "cell_type": "code",
      "metadata": {
        "id": "j7mIxiNFRyFv"
      },
      "source": [
        "print(Predict(isPath=True,image_path=\"/content/trainingSet/7/img_10028.jpg\"))\r\n",
        "\r\n",
        "# t_dataset,v_dataset=Load_data(\"/content/trainingSet\")\r\n",
        "# train(t_dataset,v_dataset)"
      ],
      "execution_count": null,
      "outputs": []
    }
  ]
}