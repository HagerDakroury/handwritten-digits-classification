{
  "nbformat": 4,
  "nbformat_minor": 0,
  "metadata": {
    "colab": {
      "name": "train.ipynb",
      "provenance": [],
      "mount_file_id": "1nrzpcI8X_b39wavmVgozOl7Jj8765kng",
      "authorship_tag": "ABX9TyPrdwIB/X+qBpVYrW6EYznu",
      "include_colab_link": true
    },
    "kernelspec": {
      "name": "python3",
      "display_name": "Python 3"
    }
  },
  "cells": [
    {
      "cell_type": "markdown",
      "metadata": {
        "id": "view-in-github",
        "colab_type": "text"
      },
      "source": [
        "<a href=\"https://colab.research.google.com/github/HagerDakroury/handwritten-digits-classification/blob/main/train.ipynb\" target=\"_parent\"><img src=\"https://colab.research.google.com/assets/colab-badge.svg\" alt=\"Open In Colab\"/></a>"
      ]
    },
    {
      "cell_type": "code",
      "metadata": {
        "id": "1iWlFNoIOhsM"
      },
      "source": [
        "import tensorflow as tf\r\n",
        "import numpy as np\r\n",
        "\r\n",
        "from tensorflow import keras\r\n",
        "from tensorflow.keras import layers\r\n",
        "from tensorflow.keras.models import Sequential\r\n",
        "\r\n",
        "import matplotlib.pyplot as plt\r\n",
        "\r\n",
        "from keras.preprocessing.image import load_img\r\n",
        "from keras.preprocessing.image import img_to_array\r\n",
        "\r\n",
        "#mounting my google drive where the dataset is saved\r\n",
        "#can be done like that or directly from google colab UI\r\n",
        "\r\n",
        "# from google.colab import drive\r\n",
        "# drive.mount('/content/drive')\r\n",
        "\r\n",
        "#extracting the dataset\r\n",
        "!tar xvzf /content/drive/MyDrive/trainingSet.tar.gz\r\n",
        "\r\n",
        "\r\n"
      ],
      "execution_count": null,
      "outputs": []
    },
    {
      "cell_type": "code",
      "metadata": {
        "id": "J-trkwLAOucR"
      },
      "source": [
        "def Load_data(directory):\r\n",
        "  \r\n",
        "  \"\"\"\r\n",
        "    load the dataset from a directory and split it into train and validation sets\r\n",
        "    :param directory: path to the directory containing the dataset \r\n",
        "    :return t_dataset: train dataset. A tf.data.Dataset object\r\n",
        "    :return v_dataset: validation dataset. A tf.data.Dataset object\r\n",
        "  \"\"\" \r\n",
        "\r\n",
        "\r\n",
        "  #fitting the data into a dataset\r\n",
        "  #image_size=(28,28)\r\n",
        "  #training to validation ratio 8:2\r\n",
        "  #seed is random\r\n",
        "\r\n",
        "  #the training dataset\r\n",
        "  t_dataset = tf.keras.preprocessing.image_dataset_from_directory(\r\n",
        "      directory, labels='inferred',label_mode='int',color_mode='rgb',\r\n",
        "      batch_size=32, image_size=(28,28), validation_split=0.2,\r\n",
        "      subset=\"training\",seed=387\r\n",
        "  )\r\n",
        "\r\n",
        "  #the validation dataset \r\n",
        "  v_dataset = tf.keras.preprocessing.image_dataset_from_directory(\r\n",
        "      directory, labels='inferred',label_mode='int', color_mode='rgb',\r\n",
        "      batch_size=32, image_size=(28,28), validation_split=0.2,\r\n",
        "      subset=\"validation\",seed=387\r\n",
        "  )\r\n",
        "\r\n",
        "  return t_dataset,v_dataset\r\n"
      ],
      "execution_count": 38,
      "outputs": []
    },
    {
      "cell_type": "code",
      "metadata": {
        "id": "srCc6KuHZiFo"
      },
      "source": [
        "#trainig the CNN model\r\n",
        "#takes the train and validation dat\r\n",
        "\r\n",
        "def train(t_dataset,v_dataset):\r\n",
        "\r\n",
        "  \"\"\"\r\n",
        "    train function that trains the CNN model and save it\r\n",
        "    :param t_dataset: train dataset. A tf.data.Dataset object\r\n",
        "    :param v_dataset: validation dataset. A tf.data.Dataset object\r\n",
        "  \"\"\" \r\n",
        "  \r\n",
        "  #keeping the data into memory after they're loaded to avoid I/O blocking\r\n",
        "  AUTOTUNE = tf.data.AUTOTUNE\r\n",
        "\r\n",
        "  t_ds = t_dataset.cache().shuffle(1000).prefetch(buffer_size=AUTOTUNE)\r\n",
        "  v_ds = v_dataset.cache().prefetch(buffer_size=AUTOTUNE)\r\n",
        "\r\n",
        "  #resclaing the dataset\r\n",
        "  normalization_layer = layers.experimental.preprocessing.Rescaling(1./255)\r\n",
        "\r\n",
        "  t_ds = t_ds.map(lambda x, y: (normalization_layer(x), y))\r\n",
        "  v_ds = v_ds.map(lambda x, y: (normalization_layer(x), y))\r\n",
        "\r\n",
        "  #constructing the model\r\n",
        "  #layer1-> input shape:(28,38,3)  output shape:(26,26,32) description: 2D convolutional layers with 32 filters\r\n",
        "  #layer2-> input shape:(26,26,32) output shape:(13,13,32) description: A max pooling layer\r\n",
        "  #layer3-> input shape:(13,13,32) output shape:(5498,0,0) description: A Flatten Layer\r\n",
        "  #layer4-> input shape:(5498,0,0) output shape:(100,0,0)  description: A Dense Layer with Relu activation\r\n",
        "  #layer5-> input shape:(100,0,0)  output shape:(10,0,0)   description: A Dense Layer  (final layer)\r\n",
        "  model = Sequential([\r\n",
        "    layers.Conv2D(32, (3, 3), activation='relu', kernel_initializer='he_uniform', input_shape=(28, 28, 3)),\r\n",
        "    layers.MaxPooling2D((2, 2)),\r\n",
        "    layers.Flatten(),\r\n",
        "    layers.Dense(100, activation='relu', kernel_initializer='he_uniform'),\r\n",
        "    layers.Dense(10)\r\n",
        "  ])\r\n",
        "\r\n",
        "  #compiling model\r\n",
        "  model.compile(optimizer='adam',\r\n",
        "                loss=tf.keras.losses.SparseCategoricalCrossentropy(from_logits=True),\r\n",
        "                metrics=['accuracy'])\r\n",
        "\r\n",
        "  #fitting the model\r\n",
        "  epochs=10\r\n",
        "  history = model.fit(\r\n",
        "    t_ds,\r\n",
        "    validation_data=v_ds,\r\n",
        "    epochs=epochs\r\n",
        "  )\r\n",
        "\r\n",
        "  #checking accuracy\r\n",
        "  val_acc = history.history['val_accuracy']\r\n",
        "  print('> %.3f' % (val_acc[9] * 100.0))\r\n",
        "\r\n",
        "  #saving the model\r\n",
        "  model.save('/content/My Drive/cse440_project/model.h5')\r\n",
        "\r\n",
        "\r\n",
        "  #A quick check of the model \r\n",
        "  class_names = t_dataset.class_names \r\n",
        "  plt.figure(figsize=(9, 9))\r\n",
        "  for images, labels in t_dataset.take(1):\r\n",
        "      for i in range(9):\r\n",
        "          ax = plt.subplot(3, 3, i + 1)\r\n",
        "          plt.imshow(images[i].numpy().astype(\"uint8\"))\r\n",
        "          #predicting the image \r\n",
        "          predict=Predict(isPath=False,image=images[i])\r\n",
        "          plt.title(\"true:\"+\"[\"+class_names[labels[i]]+\"]  \"+\"predicted:\"+np.array_str(predict))\r\n",
        "\r\n",
        "          plt.axis(\"off\")\r\n",
        "\r\n"
      ],
      "execution_count": 43,
      "outputs": []
    },
    {
      "cell_type": "code",
      "metadata": {
        "id": "GLRpk81dyVrR"
      },
      "source": [
        "from keras.models import load_model\r\n",
        "\r\n",
        "def Predict(isPath,image_path=None,image=None):\r\n",
        "  \"\"\"\r\n",
        "    predict the image from the saved model\r\n",
        "    either loads the imgae from the path or work on a pre-loaded image\r\n",
        "    :param isPath: specifying whether the passed parameter is image path or image object\r\n",
        "    :param image_path: the image path (optional)\r\n",
        "    :param image: the image object (optional)\r\n",
        "    :return predict: the predicted class\r\n",
        "  \"\"\" \r\n",
        "\r\n",
        "  if isPath:\r\n",
        "    img=load_img(image_path,target_size=(28,28))\r\n",
        "    \r\n",
        "  else:\r\n",
        "    img=image\r\n",
        "  \r\n",
        "  #some preprocessing so the image is ready\r\n",
        "  img = img_to_array(img)\r\n",
        "  img = img.reshape(1, 28, 28, 3)\r\n",
        "  img = img.astype('float32')\r\n",
        "  img = img / 255.0\r\n",
        "\r\n",
        "  #loading the model\r\n",
        "  model=load_model('/content/My Drive/cse440_project/model.h5')\r\n",
        "\r\n",
        "\r\n",
        "  #the prediction\r\n",
        "  predict=np.argmax(model.predict(img),axis=-1)\r\n",
        "  print(\"prediction is: \"+np.array_str(predict))\r\n",
        "\r\n",
        "  return predict\r\n",
        "\r\n",
        "  \r\n",
        "\r\n",
        "\r\n"
      ],
      "execution_count": 45,
      "outputs": []
    },
    {
      "cell_type": "code",
      "metadata": {
        "id": "j7mIxiNFRyFv",
        "colab": {
          "base_uri": "https://localhost:8080/"
        },
        "outputId": "506cdcc2-5e47-4552-cd82-ca1a944e21ac"
      },
      "source": [
        "\r\n",
        "import logging\r\n",
        "tf.get_logger().setLevel(logging.ERROR)\r\n",
        "\r\n",
        "\r\n",
        "\r\n",
        "Predict(isPath=True,image_path=\"/content/trainingSet/7/img_10028.jpg\")\r\n"
      ],
      "execution_count": 49,
      "outputs": [
        {
          "output_type": "stream",
          "text": [
            "prediction is: [7]\n"
          ],
          "name": "stdout"
        },
        {
          "output_type": "execute_result",
          "data": {
            "text/plain": [
              "array([7])"
            ]
          },
          "metadata": {
            "tags": []
          },
          "execution_count": 49
        }
      ]
    },
    {
      "cell_type": "code",
      "metadata": {
        "colab": {
          "base_uri": "https://localhost:8080/",
          "height": 1000
        },
        "id": "5sNeJU1kubI2",
        "outputId": "6e34f9f0-a3d5-456c-b087-8fb87ad7a5e4"
      },
      "source": [
        "t_dataset,v_dataset=Load_data(\"/content/trainingSet\")\r\n",
        "train(t_dataset,v_dataset)"
      ],
      "execution_count": 50,
      "outputs": [
        {
          "output_type": "stream",
          "text": [
            "Found 42000 files belonging to 10 classes.\n",
            "Using 33600 files for training.\n",
            "Found 42000 files belonging to 10 classes.\n",
            "Using 8400 files for validation.\n",
            "Epoch 1/10\n",
            "1050/1050 [==============================] - 66s 24ms/step - loss: 0.3101 - accuracy: 0.9043 - val_loss: 0.0827 - val_accuracy: 0.9755\n",
            "Epoch 2/10\n",
            "1050/1050 [==============================] - 23s 22ms/step - loss: 0.0502 - accuracy: 0.9851 - val_loss: 0.0617 - val_accuracy: 0.9830\n",
            "Epoch 3/10\n",
            "1050/1050 [==============================] - 22s 21ms/step - loss: 0.0276 - accuracy: 0.9911 - val_loss: 0.0679 - val_accuracy: 0.9802\n",
            "Epoch 4/10\n",
            "1050/1050 [==============================] - 22s 21ms/step - loss: 0.0138 - accuracy: 0.9956 - val_loss: 0.0612 - val_accuracy: 0.9825\n",
            "Epoch 5/10\n",
            "1050/1050 [==============================] - 22s 21ms/step - loss: 0.0129 - accuracy: 0.9955 - val_loss: 0.0705 - val_accuracy: 0.9819\n",
            "Epoch 6/10\n",
            "1050/1050 [==============================] - 22s 21ms/step - loss: 0.0062 - accuracy: 0.9984 - val_loss: 0.0708 - val_accuracy: 0.9830\n",
            "Epoch 7/10\n",
            "1050/1050 [==============================] - 23s 22ms/step - loss: 0.0073 - accuracy: 0.9975 - val_loss: 0.0711 - val_accuracy: 0.9835\n",
            "Epoch 8/10\n",
            "1050/1050 [==============================] - 22s 21ms/step - loss: 0.0077 - accuracy: 0.9971 - val_loss: 0.0841 - val_accuracy: 0.9823\n",
            "Epoch 9/10\n",
            "1050/1050 [==============================] - 22s 21ms/step - loss: 0.0040 - accuracy: 0.9987 - val_loss: 0.0791 - val_accuracy: 0.9842\n",
            "Epoch 10/10\n",
            "1050/1050 [==============================] - 22s 21ms/step - loss: 0.0051 - accuracy: 0.9983 - val_loss: 0.0806 - val_accuracy: 0.9837\n",
            "> 98.369\n",
            "prediction is: [8]\n",
            "prediction is: [1]\n",
            "prediction is: [1]\n",
            "prediction is: [9]\n",
            "prediction is: [8]\n",
            "prediction is: [1]\n",
            "prediction is: [4]\n",
            "prediction is: [2]\n",
            "prediction is: [4]\n"
          ],
          "name": "stdout"
        },
        {
          "output_type": "display_data",
          "data": {
            "image/png": "[encoded data removed]",
            "text/plain": [
              "<Figure size 648x648 with 9 Axes>"
            ]
          },
          "metadata": {
            "tags": [],
            "needs_background": "light"
          }
        }
      ]
    }
  ]
}