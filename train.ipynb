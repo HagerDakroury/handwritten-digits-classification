{
  "nbformat": 4,
  "nbformat_minor": 0,
  "metadata": {
    "colab": {
      "name": "train.ipynb",
      "provenance": [],
      "mount_file_id": "1nrzpcI8X_b39wavmVgozOl7Jj8765kng",
      "authorship_tag": "ABX9TyNEptBewNGvGrkzMZ3YiuSN",
      "include_colab_link": true
    },
    "kernelspec": {
      "name": "python3",
      "display_name": "Python 3"
    }
  },
  "cells": [
    {
      "cell_type": "markdown",
      "metadata": {
        "id": "view-in-github",
        "colab_type": "text"
      },
      "source": [
        "<a href=\"https://colab.research.google.com/github/HagerDakroury/handwritten-digits-classification/blob/main/train.ipynb\" target=\"_parent\"><img src=\"https://colab.research.google.com/assets/colab-badge.svg\" alt=\"Open In Colab\"/></a>"
      ]
    },
    {
      "cell_type": "code",
      "metadata": {
        "id": "1iWlFNoIOhsM"
      },
      "source": [
        "import tensorflow as tf\r\n",
        "from tensorflow import keras\r\n",
        "from tensorflow.keras import layers\r\n",
        "from tensorflow.keras.models import Sequential\r\n",
        "\r\n",
        "\r\n",
        "#mounting my google drive where the dataset is saved\r\n",
        "# from google.colab import drive\r\n",
        "# drive.mount('/content/drive')\r\n",
        "\r\n",
        "#extracting the dataset\r\n",
        "!tar xvzf /content/drive/MyDrive/trainingSet.tar.gz\r\n",
        "\r\n",
        "\r\n"
      ],
      "execution_count": null,
      "outputs": []
    },
    {
      "cell_type": "code",
      "metadata": {
        "id": "J-trkwLAOucR"
      },
      "source": [
        "def Load_data(directory):\r\n",
        "  #fitting the data into a dataset\r\n",
        "  #image_size=(28,28)\r\n",
        "  #training to validation ratio 8:2\r\n",
        "  #seed is random\r\n",
        "\r\n",
        "  #the training dataset\r\n",
        "  t_dataset = tf.keras.preprocessing.image_dataset_from_directory(\r\n",
        "      directory, labels='inferred',label_mode='categorical',color_mode='rgb',\r\n",
        "      batch_size=32, image_size=(28,28), validation_split=0.2,\r\n",
        "      subset=\"training\",seed=387\r\n",
        "  )\r\n",
        "\r\n",
        "  #the validation dataset \r\n",
        "  v_dataset = tf.keras.preprocessing.image_dataset_from_directory(\r\n",
        "      directory, labels='inferred',label_mode='categorical', color_mode='rgb',\r\n",
        "      batch_size=32, image_size=(28,28), validation_split=0.2,\r\n",
        "      subset=\"validation\",seed=387\r\n",
        "  )\r\n",
        "\r\n",
        "  #preprocessing the dataset\r\n",
        "\r\n",
        "  #1.reshaping to a single\r\n",
        "\r\n",
        "\r\n",
        "  return t_dataset,v_dataset\r\n",
        "\r\n"
      ],
      "execution_count": 2,
      "outputs": []
    },
    {
      "cell_type": "code",
      "metadata": {
        "id": "srCc6KuHZiFo"
      },
      "source": [
        "\r\n",
        "import numpy as np\r\n",
        "\r\n",
        "t_dataset,v_dataset=Load_data(\"/content/trainingSet\")\r\n",
        "from keras.optimizers import SGD\r\n",
        "\r\n",
        "\r\n",
        "#keeping the data into memory after they're loaded to avoid I/O blocking \r\n",
        "AUTOTUNE = tf.data.AUTOTUNE\r\n",
        "t_ds = t_dataset.cache().shuffle(1000).prefetch(buffer_size=AUTOTUNE)\r\n",
        "v_ds = v_dataset.cache().prefetch(buffer_size=AUTOTUNE)\r\n",
        "\r\n",
        "#resclaing the dataset\r\n",
        "normalization_layer = layers.experimental.preprocessing.Rescaling(1./255)\r\n",
        "\r\n",
        "t_ds = t_ds.map(lambda x, y: (normalization_layer(x), y))\r\n",
        "v_ds = v_ds.map(lambda x, y: (normalization_layer(x), y))\r\n",
        "\r\n",
        "\r\n",
        "model = Sequential([\r\n",
        "  layers.Conv2D(32, (3, 3), activation='relu', kernel_initializer='he_uniform', input_shape=(28, 28, 3)),\r\n",
        "  layers.MaxPooling2D((2, 2)),\r\n",
        "  layers.Flatten(),\r\n",
        "  layers.Dense(100, activation='relu', kernel_initializer='he_uniform'),\r\n",
        "  layers.Dense(10, activation='softmax')\r\n",
        "])\r\n",
        "\r\n",
        "# compile model\r\n",
        "opt = SGD(lr=0.01, momentum=0.9)\r\n",
        "model.compile(optimizer=opt, loss='categorical_crossentropy', metrics=['accuracy'])\r\n",
        "model.summary()\r\n",
        "\r\n",
        "epochs=10\r\n",
        "history = model.fit(\r\n",
        "  t_ds,\r\n",
        "  validation_data=v_ds,\r\n",
        "  epochs=epochs\r\n",
        ")\r\n"
      ],
      "execution_count": null,
      "outputs": []
    },
    {
      "cell_type": "code",
      "metadata": {
        "colab": {
          "base_uri": "https://localhost:8080/",
          "height": 553
        },
        "id": "GLRpk81dyVrR",
        "outputId": "08c20816-e8ec-4d32-eb17-c58a40ae28d5"
      },
      "source": [
        "#checking accuracy\r\n",
        "val_acc = history.history['val_accuracy']\r\n",
        "print('> %.3f' % (val_acc[9] * 100.0))\r\n",
        "\r\n",
        "t_ds_batch=t_ds.batch(3)\r\n",
        "# list(t_ds_batch.as_numpy_iterator())\r\n",
        "import matplotlib.pyplot as plt\r\n",
        "from keras.preprocessing.image import load_img\r\n",
        "from keras.preprocessing.image import img_to_array\r\n",
        "class_names = t_dataset.class_names \r\n",
        "plt.figure(figsize=(9, 9))\r\n",
        "for images, labels in t_dataset.take(1):\r\n",
        "    for i in range(9):\r\n",
        "        ax = plt.subplot(3, 3, i + 1)\r\n",
        "        plt.imshow(images[i].numpy().astype(\"uint8\"))\r\n",
        "        #predicting the image \r\n",
        "        img=images[i]\r\n",
        "        img = img_to_array(img)\r\n",
        "        img = img.reshape(1, 28, 28, 3)\r\n",
        "        img = img.astype('float32')\r\n",
        "        img = img / 255.0\r\n",
        "        predict=np.argmax(model.predict(img),axis=-1)\r\n",
        "        plt.title(\"predicted:\"+np.array_str(predict))\r\n",
        "\r\n",
        "        plt.axis(\"off\")"
      ],
      "execution_count": 6,
      "outputs": [
        {
          "output_type": "stream",
          "text": [
            "> 98.571\n"
          ],
          "name": "stdout"
        },
        {
          "output_type": "display_data",
          "data": {
            "image/png": "[encoded data removed]",
            "text/plain": [
              "<Figure size 648x648 with 9 Axes>"
            ]
          },
          "metadata": {
            "tags": [],
            "needs_background": "light"
          }
        }
      ]
    }
  ]
}